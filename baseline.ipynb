{
 "cells": [
  {
   "cell_type": "code",
   "execution_count": 1,
   "metadata": {
    "collapsed": true
   },
   "outputs": [],
   "source": [
    "import pandas as pd\n",
    "import numpy as np\n",
    "import sys\n",
    "import nltk\n",
    "from sklearn.feature_extraction.text import CountVectorizer \n",
    "from nltk.stem.lancaster import LancasterStemmer\n",
    "from collections import Counter\n",
    "from textblob import TextBlob\n",
    "from sklearn.preprocessing import StandardScaler\n",
    "from scipy import sparse\n",
    "from sklearn.model_selection import train_test_split, GridSearchCV, RandomizedSearchCV\n",
    "from sklearn.metrics import roc_auc_score\n",
    "from sklearn.decomposition import TruncatedSVD\n",
    "from sklearn.tree import DecisionTreeClassifier\n",
    "from sklearn.naive_bayes import BernoulliNB\n",
    "from sklearn.linear_model import LogisticRegression\n",
    "from tqdm import tqdm\n",
    "import matplotlib.pyplot as plt\n",
    "\n",
    "import re\n",
    "\n",
    "%matplotlib inline"
   ]
  },
  {
   "cell_type": "code",
   "execution_count": 2,
   "metadata": {
    "collapsed": true
   },
   "outputs": [],
   "source": [
    "data = pd.read_csv('train.csv')\n",
    "count_vec = CountVectorizer(stop_words='english')\n",
    "tokenizer_drop_stop_words = count_vec.build_analyzer()\n",
    "stemmer = LancasterStemmer()\n",
    "\n",
    "def spell_corr(x):\n",
    "    spell_corr = TextBlob(x)\n",
    "    return str(spell_corr.correct())\n",
    "\n",
    "def preprocesser(x, tokenizer, drop_numbers=False, stemmer=stemmer, spell_check=False):\n",
    "    if spell_check:\n",
    "        x = spell_corr(x)\n",
    "    tokens = [word for word in tokenizer(x)]\n",
    "    if drop_numbers:\n",
    "        tokens = [word for word in tokens if not word.isnumeric()]\n",
    "    if stemmer:\n",
    "        tokens = [stemmer.stem(token) for token in tokens]\n",
    "    return tokens\n",
    "\n",
    "count_vec = CountVectorizer(tokenizer=lambda x: preprocesser(x, tokenizer_drop_stop_words, drop_numbers=True))\n",
    "count_feature = count_vec.fit_transform(data['comment_text'])"
   ]
  },
  {
   "cell_type": "code",
   "execution_count": 4,
   "metadata": {},
   "outputs": [
    {
     "name": "stdout",
     "output_type": "stream",
     "text": [
      "explained variance for 150 components: 0.8416323145801105\n"
     ]
    }
   ],
   "source": [
    "target = data[['toxic','severe_toxic', 'obscene', 'threat', 'insult', 'identity_hate']]\n",
    "X_train, X_test, y_train, y_test = train_test_split(count_feature, target,test_size = 0.2, random_state = 42)\n",
    "svd = TruncatedSVD(n_components=150, random_state=42)\n",
    "X_train = svd.fit_transform(X_train)  \n",
    "X_test = svd.transform(X_test)\n",
    "print('explained variance for 150 components: {}'.format(svd.explained_variance_ratio_.sum()))"
   ]
  },
  {
   "cell_type": "code",
   "execution_count": 11,
   "metadata": {
    "collapsed": true
   },
   "outputs": [],
   "source": [
    "sc = StandardScaler()\n",
    "X_train_tr = sc.fit_transform(X_train)\n",
    "X_test_tr = sc.transform(X_test)"
   ]
  },
  {
   "cell_type": "code",
   "execution_count": 13,
   "metadata": {},
   "outputs": [
    {
     "name": "stdout",
     "output_type": "stream",
     "text": [
      "baseline toxic test score: 0.697216207516633\n",
      "baseline severe_toxic test score: 0.8017077851250198\n",
      "baseline obscene test score: 0.759839408800417\n",
      "baseline threat test score: 0.6005078442972982\n",
      "baseline insult test score: 0.7304157538406375\n",
      "baseline identity_hate test score: 0.6891917925893991\n"
     ]
    }
   ],
   "source": [
    "parameters_NB = {'alpha': [1e-5, 1e-3, 0.1, 1.0, 5.0, 10., 30., 100., 500, 1000]}\n",
    "\n",
    "for i, column in enumerate(y_train.columns): \n",
    "    model = BernoulliNB()\n",
    "    grid_search = GridSearchCV(model, parameters_NB, cv = 3, scoring='roc_auc')\n",
    "    grid_search.fit(X_train_tr, y_train[column])\n",
    "    \n",
    "    best_estimator = grid_search.best_estimator_\n",
    "    best_estimator.fit(X_train_tr, y_train[column])\n",
    "    y_pred = best_estimator.predict(X_test_tr)\n",
    "    roc_auc = roc_auc_score(y_test[column], y_pred)\n",
    "    \n",
    "    print('baseline {} test score: {}'.format(column, roc_auc))"
   ]
  },
  {
   "cell_type": "code",
   "execution_count": 15,
   "metadata": {},
   "outputs": [
    {
     "name": "stderr",
     "output_type": "stream",
     "text": [
      "\r",
      "0it [00:00, ?it/s]"
     ]
    },
    {
     "name": "stdout",
     "output_type": "stream",
     "text": [
      "baseline toxic test score: 0.8151042002104836\n"
     ]
    },
    {
     "name": "stderr",
     "output_type": "stream",
     "text": [
      "\r",
      "1it [05:44, 344.91s/it]"
     ]
    },
    {
     "name": "stdout",
     "output_type": "stream",
     "text": [
      "baseline severe_toxic test score: 0.9171302982130958\n"
     ]
    },
    {
     "name": "stderr",
     "output_type": "stream",
     "text": [
      "\r",
      "2it [13:27, 403.91s/it]"
     ]
    },
    {
     "name": "stdout",
     "output_type": "stream",
     "text": [
      "baseline obscene test score: 0.8879017434788484\n"
     ]
    },
    {
     "name": "stderr",
     "output_type": "stream",
     "text": [
      "\r",
      "3it [17:55, 358.47s/it]"
     ]
    },
    {
     "name": "stdout",
     "output_type": "stream",
     "text": [
      "baseline threat test score: 0.8608088161023058\n"
     ]
    },
    {
     "name": "stderr",
     "output_type": "stream",
     "text": [
      "\r",
      "4it [23:01, 345.30s/it]"
     ]
    },
    {
     "name": "stdout",
     "output_type": "stream",
     "text": [
      "baseline insult test score: 0.8225037722508821\n"
     ]
    },
    {
     "name": "stderr",
     "output_type": "stream",
     "text": [
      "\r",
      "5it [28:42, 344.54s/it]"
     ]
    },
    {
     "name": "stdout",
     "output_type": "stream",
     "text": [
      "baseline identity_hate test score: 0.8538341651451383\n"
     ]
    },
    {
     "name": "stderr",
     "output_type": "stream",
     "text": [
      "6it [34:56, 349.35s/it]\n"
     ]
    },
    {
     "data": {
      "text/plain": [
       "<matplotlib.figure.Figure at 0x2738ebd0518>"
      ]
     },
     "metadata": {},
     "output_type": "display_data"
    }
   ],
   "source": [
    "parameters_LR = {'C': [1e-2, 0.1, 1.0, 5.0]}\n",
    "for i, column in tqdm(enumerate(y_train.columns)): \n",
    "    model = LogisticRegression(class_weight='balanced')\n",
    "    grid_search = GridSearchCV(model, parameters_LR, cv = 3, scoring='roc_auc')\n",
    "    grid_search.fit(X_train_tr, y_train[column])\n",
    "    \n",
    "    best_estimator = grid_search.best_estimator_\n",
    "    best_estimator.fit(X_train_tr, y_train[column])\n",
    "    y_pred = best_estimator.predict(X_test_tr)\n",
    "    roc_auc = roc_auc_score(y_test[column], y_pred)\n",
    "    print('baseline {} test score: {}'.format(column, roc_auc))"
   ]
  }
 ],
 "metadata": {
  "kernelspec": {
   "display_name": "Python 3",
   "language": "python",
   "name": "python3"
  },
  "language_info": {
   "codemirror_mode": {
    "name": "ipython",
    "version": 3
   },
   "file_extension": ".py",
   "mimetype": "text/x-python",
   "name": "python",
   "nbconvert_exporter": "python",
   "pygments_lexer": "ipython3",
   "version": "3.6.3"
  }
 },
 "nbformat": 4,
 "nbformat_minor": 2
}
