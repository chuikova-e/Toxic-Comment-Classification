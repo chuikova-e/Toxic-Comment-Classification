{
 "cells": [
  {
   "cell_type": "code",
   "execution_count": 96,
   "metadata": {
    "collapsed": true
   },
   "outputs": [],
   "source": [
    "import pandas as pd\n",
    "import numpy as np\n",
    "from tqdm import tqdm\n",
    "from nltk.corpus import wordnet as wn\n",
    "from nltk.corpus import sentiwordnet as swn\n",
    "from sklearn.model_selection import train_test_split\n",
    "from textblob.classifiers import NaiveBayesClassifier as NBC\n",
    "from textblob import TextBlob\n",
    "from nltk.sentiment.util import mark_negation\n",
    "import re"
   ]
  },
  {
   "cell_type": "markdown",
   "metadata": {},
   "source": [
    "# Calculating potisive/negative scores"
   ]
  },
  {
   "cell_type": "code",
   "execution_count": 97,
   "metadata": {
    "collapsed": true
   },
   "outputs": [],
   "source": [
    "data = pd.read_csv('train.csv')\n",
    "data['negative_score'] = 0.0\n",
    "data['positive_score'] = 0.0\n",
    "\n",
    "def sentiment_analysis(text):\n",
    "    pos, neg = [], []\n",
    "    \n",
    "    text = text.replace('.', ' .')\n",
    "    text = text.replace('?', ' ?')\n",
    "    text = text.replace('!', ' !')\n",
    "    text = text.replace(',', ' ,')\n",
    "    text_split= text.split()\n",
    "    str_neg = mark_negation(text_split, double_neg_flip=True, shallow=False)\n",
    "    \n",
    "    for i in range(len(text_split)):\n",
    "        synsets = wn.synsets(str(text_split[i]))\n",
    "        if not synsets == []:\n",
    "            target = synsets[0]\n",
    "            senti_synset = swn.senti_synset(target.name())\n",
    "            \n",
    "            if str_neg[i].find('_NEG') == -1:\n",
    "                pos.append(senti_synset.pos_score())\n",
    "                neg.append(senti_synset.neg_score())\n",
    "            else:\n",
    "                neg.append(senti_synset.pos_score())\n",
    "                pos.append(senti_synset.neg_score())\n",
    "\n",
    "    pos_score = np.mean(pos)\n",
    "    neg_score = np.mean(neg)\n",
    "    \n",
    "    return (pos_score, neg_score)\n",
    "\n",
    "\n",
    "for index in tqdm(data.index):\n",
    "    text = data['comment_text'][index]\n",
    "    pos, neg = sentiment_analysis(text)\n",
    "    data['positive_score'][index] = pos\n",
    "    data['negative_score'][index] = neg\n",
    "    \n",
    "data.to_csv('train_pos_neg.csv', encoding='utf-8')"
   ]
  }
 ],
 "metadata": {
  "kernelspec": {
   "display_name": "Python 3",
   "language": "python",
   "name": "python3"
  },
  "language_info": {
   "codemirror_mode": {
    "name": "ipython",
    "version": 3
   },
   "file_extension": ".py",
   "mimetype": "text/x-python",
   "name": "python",
   "nbconvert_exporter": "python",
   "pygments_lexer": "ipython3",
   "version": "3.6.3"
  }
 },
 "nbformat": 4,
 "nbformat_minor": 2
}
